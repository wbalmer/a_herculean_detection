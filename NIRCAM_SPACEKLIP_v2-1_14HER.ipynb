{
 "cells": [
  {
   "cell_type": "markdown",
   "id": "1a5df43b-f8d9-48ce-b81d-adf0d8594ff8",
   "metadata": {},
   "source": [
    "# Notebook to reproduce 14 Her c NIRCam imaging with the 335R coronagraph"
   ]
  },
  {
   "cell_type": "markdown",
   "id": "3ef25a33-d1bc-4ce0-a91e-0e8512db8f85",
   "metadata": {},
   "source": [
    "Author: W. Balmer (May 20th, 2025)\n",
    "\n",
    "This notebook should allow the user to reproduce the data reduction, starlight subtraction, contrast calibration, and source extraction for JWST GO 3337 (DBG & Balmer et al. 2025)"
   ]
  },
  {
   "cell_type": "markdown",
   "id": "77442cd8-2220-4fce-bfb7-7866ec9774c0",
   "metadata": {},
   "source": [
    "# install pyklip, spaceklip, etc"
   ]
  },
  {
   "cell_type": "markdown",
   "id": "e506f25f-c148-4cc2-a80f-cba3f82965d1",
   "metadata": {},
   "source": [
    "To run this notebook, you'll need to create a new conda environment and install stpsf, pyklip, spaceklip, etc and then open this notebook with a ipykernel based in that environment with the correct environment variables.\n",
    "\n",
    "Download the spaceklip git repo:\n",
    "```\n",
    "git clone https://github.com/spacetelescope/spaceKLIP.git\n",
    "```\n",
    "Create a new env with the right python version:\n",
    "```\n",
    "conda create -n spaceklip_v2p1 python=3.11\n",
    "conda activate spaceklip_v2p1\n",
    "```\n",
    "\n",
    "(optionally, you can create a jupyter kernel, and run this notebook on that kernel explicitly):\n",
    "\n",
    "```\n",
    "pip install ipykernel\n",
    "python -m ipykernel install --user --name=spaceklip_v2p1\n",
    "```\n",
    "\n",
    "Cd into the repo, checkout the version of spaceklip that was used for the paper (v2.1), install the requirements, and finally install spaceklip itself.\n",
    "```\n",
    "cd spaceKLIP\n",
    "git checkout 11df3a1\n",
    "pip install jwst==1.18\n",
    "pip install -r requirements.txt\n",
    "pip install -e .\n",
    "```\n",
    "\n",
    "In the paper, we used CRDS_VER='12.1.5  ' and the 'jwst_1364.pmap' CRDS context.\n",
    "\n",
    "Download the stpsf reference files from [here](https://stpsf.readthedocs.io/en/latest/installation.html) and set up the correct environment variables, for example:\n",
    "```\n",
    "export STPSF_PATH=$HOME/data/stpsf-data\n",
    "export WEBBPSF_EXT_PATH='$HOME/data/webbpsf_ext_data/'\n",
    "export PYSYN_CDBS='$HOME/data/cdbs/'\n",
    "```"
   ]
  },
  {
   "cell_type": "code",
   "execution_count": null,
   "id": "2ad76fb8-7003-4bfc-826d-09bd57eb16d0",
   "metadata": {},
   "outputs": [],
   "source": [
    "target='14Her'\n",
    "pid=3337"
   ]
  },
  {
   "cell_type": "markdown",
   "id": "3a82ab43-c1ad-4ba5-9be3-9ee4480a0ad1",
   "metadata": {},
   "source": [
    "# acquire data"
   ]
  },
  {
   "cell_type": "markdown",
   "id": "be42f043-03fa-4e55-98df-9f0f6085ef32",
   "metadata": {},
   "source": [
    "To aquire nircam coron data, you can use the jwst_mast_query or spaceklip.mast api tools:"
   ]
  },
  {
   "cell_type": "markdown",
   "id": "4d52d853-e0b4-4b39-98c9-b9eb9af37e7e",
   "metadata": {},
   "source": [
    "https://github.com/spacetelescope/jwst_mast_query"
   ]
  },
  {
   "cell_type": "markdown",
   "id": "900f8ce0-259f-47cc-83ed-7a7ae35be82b",
   "metadata": {},
   "source": [
    "jwst_download.py -v --instrument nircam --propID 1193 -f uncal.fits --date_select 2022-01-01 2022-12-01"
   ]
  },
  {
   "cell_type": "code",
   "execution_count": null,
   "id": "cdcc76ca-3596-4c7b-9f56-771f705300f1",
   "metadata": {},
   "outputs": [],
   "source": [
    "from spaceKLIP import mast\n",
    "import numpy as np"
   ]
  },
  {
   "cell_type": "code",
   "execution_count": null,
   "id": "62ba8096-180d-48db-ad83-98819cfa3a88",
   "metadata": {},
   "outputs": [],
   "source": [
    "data_dir = f'/Users/wbalmer/data/jwst/{target}/' # edit this to refer to your own file structure"
   ]
  },
  {
   "cell_type": "code",
   "execution_count": null,
   "id": "dfcce164-ecab-476d-9a8b-2e9c8a5bdfec",
   "metadata": {},
   "outputs": [],
   "source": [
    "table = mast.query_coron_datasets('NIRCam', \n",
    "                                  'F444W', \n",
    "                                  'MASKA335R',\n",
    "                                  program=pid,\n",
    "                                  ignore_exclusive_access=False, \n",
    "                                  return_filenames=True, \n",
    "                                  level='uncal')\n",
    "\n",
    "print(f\"Found {len(table)} total rows.\")\n",
    "print(table[-5:-1])"
   ]
  },
  {
   "cell_type": "code",
   "execution_count": null,
   "id": "b23c0c14-a2c3-4c8c-a2a0-6682727210a0",
   "metadata": {
    "scrolled": true
   },
   "outputs": [],
   "source": [
    "mast.download_files(table, outputdir=data_dir)"
   ]
  },
  {
   "cell_type": "markdown",
   "id": "dffc4e11-ab6b-4882-accd-516332ec8ae5",
   "metadata": {},
   "source": [
    "# initialize spaceklip and database object"
   ]
  },
  {
   "cell_type": "code",
   "execution_count": null,
   "id": "180cfab4-7c0c-4e4f-b73a-05081c56e510",
   "metadata": {},
   "outputs": [],
   "source": [
    "from __future__ import division\n",
    "\n",
    "# =============================================================================\n",
    "# IMPORTS\n",
    "# =============================================================================\n",
    "\n",
    "import os\n",
    "import pdb\n",
    "import sys\n",
    "\n",
    "import astropy.io.fits as fits\n",
    "import matplotlib.pyplot as plt\n",
    "import numpy as np\n",
    "\n",
    "from spaceKLIP import database, coron1pipeline, coron2pipeline, coron3pipeline, pyklippipeline, imagetools, analysistools\n",
    "\n",
    "# plotting\n",
    "import matplotlib.pyplot as plt"
   ]
  },
  {
   "cell_type": "code",
   "execution_count": null,
   "id": "0de3dc55-025b-4c74-9757-461de2b71f8f",
   "metadata": {
    "scrolled": true,
    "tags": []
   },
   "outputs": [],
   "source": [
    "# Set the input and output directories and grab the input FITS files.\n",
    "\n",
    "# are the data reduced yet?\n",
    "reduced = False\n",
    "# are the bad pixels corrected yet?\n",
    "cleaned = False\n",
    "# are the data aligned yet?\n",
    "aligned = False\n",
    "\n",
    "# extra options: defaults are those used in our paper\n",
    "pad = False\n",
    "coadd = False\n",
    "crop = True\n",
    "blur = True\n",
    "\n",
    "data_dir = f'/Users/wbalmer/data/jwst/{target}/' # edit this to refer to your own file structure\n",
    "output_dir = f'./spaceklip_{target}/' # edit this to refer to your own file structure\n",
    "\n",
    "if aligned and coadd:\n",
    "    input_dir = output_dir+'coadded/'\n",
    "    fitsfiles = sorted([input_dir + f for f in os.listdir(input_dir) if f.endswith('calints.fits')])\n",
    "elif aligned:\n",
    "    input_dir = output_dir+'aligned/'\n",
    "    fitsfiles = sorted([input_dir + f for f in os.listdir(input_dir) if f.endswith('calints.fits')])\n",
    "elif cleaned:\n",
    "    input_dir = output_dir+'medsub/'\n",
    "    fitsfiles = sorted([input_dir + f for f in os.listdir(input_dir) if f.endswith('calints.fits')])\n",
    "elif reduced:\n",
    "    input_dir = output_dir+'stage2/'\n",
    "    fitsfiles = sorted([input_dir + f for f in os.listdir(input_dir) if f.endswith('.fits')])\n",
    "else:\n",
    "    input_dir = data_dir # pull uncal files from the directory jwst_mast_query downloads to (you might need to rename this)\n",
    "    fitsfiles = sorted([input_dir + f for f in os.listdir(input_dir) if f.endswith('.fits')])\n",
    "\n",
    "# spectral type of the star\n",
    "spt = 'K0V' # 14 Her\n"
   ]
  },
  {
   "cell_type": "markdown",
   "id": "8c3d5843-38fe-4654-b177-d146fc1faac7",
   "metadata": {},
   "source": [
    "# reductions"
   ]
  },
  {
   "cell_type": "code",
   "execution_count": null,
   "id": "10811ca9-329a-4d86-9582-2e53c04bfd83",
   "metadata": {
    "scrolled": true,
    "tags": []
   },
   "outputs": [],
   "source": [
    "# Initialize the spaceKLIP database and read the input FITS files.\n",
    "Database = database.Database(output_dir=output_dir)\n",
    "Database.read_jwst_s012_data(datapaths=fitsfiles,\n",
    "                             psflibpaths=None,\n",
    "                             bgpaths=None)"
   ]
  },
  {
   "cell_type": "code",
   "execution_count": null,
   "id": "ca8c64a2-60b0-4730-9700-1d70cfe56d73",
   "metadata": {},
   "outputs": [],
   "source": [
    "Database.obs.keys()"
   ]
  },
  {
   "cell_type": "code",
   "execution_count": null,
   "id": "72a2eb4a-2ef1-4990-8893-fabedae0b1ca",
   "metadata": {},
   "outputs": [],
   "source": [
    "# To select a subset of obs you can downsize the dict as follows\n",
    "# In the instructions to download the data via spaceklip.mast above, you'll only get the F444W \n",
    "# but using jwst_download you'll get both F200W, F444W, and some TAQ images. \n",
    "\n",
    "select_obs = [\n",
    "              # 'JWST_NIRCAM_NRCA2_F200W_MASKRND_MASK335R_SUB320A335R',\n",
    "              'JWST_NIRCAM_NRCALONG_F444W_MASKRND_MASK335R_SUB320A335R',\n",
    "              ]\n",
    "\n",
    "Database.obs = {k:Database.obs[k] for k in select_obs}"
   ]
  },
  {
   "cell_type": "code",
   "execution_count": null,
   "id": "f9cd87a1-10fe-49a8-af4d-df1bdcd9d816",
   "metadata": {
    "scrolled": true,
    "tags": []
   },
   "outputs": [],
   "source": [
    "if not reduced:\n",
    "    coron1pipeline.run_obs(database=Database,\n",
    "                           steps={'group_scale': {'skip': False},\n",
    "                              'dq_init': {'skip': False},\n",
    "                              'saturation': {'n_pix_grow_sat': 1,\n",
    "                                             'grow_diagonal': False},\n",
    "                              'ipc': {'skip': True},\n",
    "                              'superbias':{'skip': False},\n",
    "                              'refpix': {'odd_even_columns': True,\n",
    "                                         'odd_even_rows': True,\n",
    "                                         'nlower': 4,\n",
    "                                         'nupper': 4,\n",
    "                                         'nleft': 4,\n",
    "                                         'nright': 4,\n",
    "                                         'nrow_off': 0,\n",
    "                                         'ncol_off': 0},\n",
    "                              'linearity': {'skip': False},\n",
    "                              'dark_current': {'skip': True},\n",
    "                              'persistence': {'skip': True},\n",
    "                              'jump': {'rejection_threshold': 4.,\n",
    "                                       'three_group_rejection_threshold': 4.,\n",
    "                                       'four_group_rejection_threshold': 4.,\n",
    "                                       'maximum_cores': 'all'},\n",
    "                              'subtract_1overf': {'model_type': 'median', # <--- this is not default\n",
    "                                                  'sat_frac': 0.5,\n",
    "                                                  'combine_ints': True,\n",
    "                                                  'vertical_corr': True,\n",
    "                                                  'nproc': 16\n",
    "                                                 },\n",
    "                              'ramp_fit': {\n",
    "                                           'algorithm':'LIKELY', # <--- this is not default\n",
    "                                           'save_calibrated_ramp': False,\n",
    "                                           'maximum_cores': 'all'},\n",
    "                              'gain_scale': {'skip': False}},\n",
    "                           subdir='stage1')"
   ]
  },
  {
   "cell_type": "code",
   "execution_count": null,
   "id": "e35d75f8-3536-41e1-b293-b64b0865e389",
   "metadata": {
    "scrolled": true,
    "tags": []
   },
   "outputs": [],
   "source": [
    "if not reduced:\n",
    "    coron2pipeline.run_obs(database=Database,\n",
    "                           steps={'outlier_detection': {'skip': False}},\n",
    "                           subdir='stage2')"
   ]
  },
  {
   "cell_type": "code",
   "execution_count": null,
   "id": "926e5864-3ac9-492f-b166-86a309ac3478",
   "metadata": {},
   "outputs": [],
   "source": [
    "ImageTools = imagetools.ImageTools(Database)"
   ]
  },
  {
   "cell_type": "code",
   "execution_count": null,
   "id": "beb603b9-fec4-44f6-b594-a1fb3e65fe30",
   "metadata": {
    "scrolled": true,
    "tags": []
   },
   "outputs": [],
   "source": [
    "if not cleaned:\n",
    "    ImageTools.update_nircam_centers()"
   ]
  },
  {
   "cell_type": "code",
   "execution_count": null,
   "id": "4f8614f4-d057-42f3-9bd5-08f7709cf0e2",
   "metadata": {
    "scrolled": true
   },
   "outputs": [],
   "source": [
    "if not cleaned:\n",
    "    ImageTools.find_bad_pixels(method='dqarr+sigclip+timeints',\n",
    "                               sigclip_kwargs={'sigclip': 4,\n",
    "                                               'shift_x': [-1, 0, 1],\n",
    "                                               'shift_y': [-1, 0, 1]},\n",
    "                               timeints_kwargs={'sigma':4}\n",
    "                              )\n",
    "    ImageTools.clean_bad_pixels(method='timemed+interp2d',\n",
    "                                interp2d_kwargs={'size':9}, # default 4\n",
    "                                subdir='bpcleaned')"
   ]
  },
  {
   "cell_type": "code",
   "execution_count": null,
   "id": "57d04342-e4ea-4bc0-b941-25407d9c74b6",
   "metadata": {
    "scrolled": true
   },
   "outputs": [],
   "source": [
    "if not cleaned:\n",
    "    ImageTools.replace_nans(cval=0.,\n",
    "                            types=['SCI', 'SCI_BG', 'REF', 'REF_BG'],\n",
    "                            subdir='nanreplaced')\n",
    "\n",
    "if not cleaned:\n",
    "    ImageTools.subtract_median(types=['SCI', 'SCI_TA', 'SCI_BG', 'REF', 'REF_TA', 'REF_BG'],\n",
    "                               subdir='medsub')"
   ]
  },
  {
   "cell_type": "code",
   "execution_count": null,
   "id": "e640fa3a-4398-47b0-871b-578a4a6cff11",
   "metadata": {
    "scrolled": true
   },
   "outputs": [],
   "source": [
    "if not cleaned and coadd:\n",
    "    ImageTools.coadd_frames()"
   ]
  },
  {
   "cell_type": "code",
   "execution_count": null,
   "id": "79941ad4-8140-47c1-8b0e-607f83a34f73",
   "metadata": {
    "scrolled": true,
    "tags": []
   },
   "outputs": [],
   "source": [
    "if not aligned:\n",
    "    ImageTools.recenter_frames(\n",
    "        spectral_type=spt,\n",
    "    )\n",
    "\n",
    "    if blur:\n",
    "        ImageTools.blur_frames(subdir='blur')\n",
    "\n",
    "    ImageTools.align_frames(\n",
    "        subdir='aligned',\n",
    "    )\n",
    "    "
   ]
  },
  {
   "cell_type": "code",
   "execution_count": null,
   "id": "1c8313cd-4be9-4110-ba78-8960cd889433",
   "metadata": {
    "scrolled": true
   },
   "outputs": [],
   "source": [
    "if crop:\n",
    "    ImageTools.crop_frames(npix=60) # from 320 -> 200\n",
    "\n",
    "if pad:\n",
    "    ImageTools.pad_frames(\n",
    "                          npix=50,\n",
    "                          types=['SCI', 'SCI_BG', \n",
    "                                 'REF', 'REF_BG'],\n",
    "                          cval=0.\n",
    "                         )"
   ]
  },
  {
   "cell_type": "code",
   "execution_count": null,
   "id": "7391063f-be84-4593-b420-fe5ccadac299",
   "metadata": {},
   "outputs": [],
   "source": [
    "maxnumbasis = Database.obs['JWST_NIRCAM_NRCALONG_F444W_MASKRND_MASK335R_SUB320A335R']['NINTS'].sum()"
   ]
  },
  {
   "cell_type": "code",
   "execution_count": null,
   "id": "db983b11-9534-4f48-9971-a17268a02ceb",
   "metadata": {},
   "outputs": [],
   "source": [
    "numbasis = [1, 2, 3, 4, 5, 6, 7, 8, 9] + list(np.arange(10,maxnumbasis,10))"
   ]
  },
  {
   "cell_type": "markdown",
   "id": "a6b0e7fc-b694-4a81-a83b-a83b86d8a51e",
   "metadata": {},
   "source": [
    "# klip"
   ]
  },
  {
   "cell_type": "code",
   "execution_count": null,
   "id": "25041fcc-6f4c-40d6-9831-eea5d3137308",
   "metadata": {},
   "outputs": [],
   "source": [
    "# this cell is only necessary if you have an apple silicon chip\n",
    "# unfortunately, I have an apple silicon chip.\n",
    "# once other image reduction steps are done, run this so that pyklip.parallelized doesn't break\n",
    "# see discussion here: https://pyklip.readthedocs.io/en/latest/install.html#note-on-parallelized-performance\n",
    "import platform\n",
    "if platform.processor() == 'arm':\n",
    "    os.environ[\"OPENBLAS_NUM_THREADS\"] = \"1\"\n",
    "    os.environ[\"OMP_NUM_THREADS\"] = \"1\" "
   ]
  },
  {
   "cell_type": "code",
   "execution_count": null,
   "id": "0a9c8a53-6419-43df-b443-6aa8b04353d3",
   "metadata": {
    "scrolled": true,
    "tags": []
   },
   "outputs": [],
   "source": [
    "pyklippipeline.run_obs(database=Database,\n",
    "                       kwargs={'mode': ['ADI+RDI'],\n",
    "                               'annuli': [1],\n",
    "                               'subsections': [1],\n",
    "                               'numbasis':numbasis,\n",
    "                               'algo': 'klip'},\n",
    "                       subdir='klipsub')"
   ]
  },
  {
   "cell_type": "code",
   "execution_count": null,
   "id": "3e4da428-bd42-4853-8dc7-263e8b9798f0",
   "metadata": {},
   "outputs": [],
   "source": [
    "data = fits.getdata(Database.red['JWST_NIRCAM_NRCALONG_F444W_MASKRND_MASK335R_SUB320A335R']['FITSFILE'][-1])"
   ]
  },
  {
   "cell_type": "code",
   "execution_count": null,
   "id": "f56a91c4-2f35-4b89-b016-ee6a41d26f79",
   "metadata": {},
   "outputs": [],
   "source": [
    "# display the starlight subtracted image:\n",
    "plt.figure(figsize=(6,6))\n",
    "plt.imshow(data[-1], origin='lower', cmap='magma')\n",
    "plt.colorbar()"
   ]
  },
  {
   "cell_type": "markdown",
   "id": "47114610-ff5b-4b01-bb91-551f49161a15",
   "metadata": {},
   "source": [
    "# analysis"
   ]
  },
  {
   "cell_type": "code",
   "execution_count": null,
   "id": "3961216a-7538-4c51-a501-63e958a1a466",
   "metadata": {},
   "outputs": [],
   "source": [
    "Database = database.Database(output_dir=output_dir)\n",
    "fitsfiles = sorted([output_dir+'klipsub/' + f for f in os.listdir(output_dir+'klipsub/') if f.endswith('KLmodes-all.fits')])\n",
    "Database.read_jwst_s3_data(fitsfiles)"
   ]
  },
  {
   "cell_type": "code",
   "execution_count": null,
   "id": "8a11567c-6f67-4a3b-8abd-46a37467a6ac",
   "metadata": {},
   "outputs": [],
   "source": [
    "# compute raw contrast curve?\n",
    "raw_contrasts = True\n",
    "# calibrate said curve?\n",
    "calib_contrasts = True\n",
    "# extract sources?\n",
    "comp_fm = True"
   ]
  },
  {
   "cell_type": "code",
   "execution_count": null,
   "id": "7360273e-5c9c-452d-85fe-849cda8e4e47",
   "metadata": {},
   "outputs": [],
   "source": [
    "Analysis = analysistools.AnalysisTools(Database)\n",
    "\n",
    "companions = [\n",
    "    [-0.806, -0.758, 1e-6] # 14 Her c\n",
    "             ] # units arcsecond, arcsecond, contrast\n",
    "\n",
    "companion_masks = [\n",
    "    [-0.806, -0.758, 1.5], [0.95, -1.25, 3.5] # 14 Her c and bg galaxy\n",
    "] # units arcsecond, arcsecond, contrast\n",
    "\n",
    "if companions == []:\n",
    "    print('no comps')\n",
    "    companions = None\n",
    "\n",
    "if companion_masks == []:\n",
    "    print('no comps masks')\n",
    "    companion_masks = None\n",
    "\n",
    "\n",
    "starfile = './14HERA_BTNEXTGEN_SCALED_MU_JY.txt'"
   ]
  },
  {
   "cell_type": "code",
   "execution_count": null,
   "id": "7986eb7a-9655-4487-86de-6f5d0126180a",
   "metadata": {
    "scrolled": true,
    "tags": []
   },
   "outputs": [],
   "source": [
    "if raw_contrasts:\n",
    "    Analysis.raw_contrast(starfile,spectral_type=spt,companions=companion_masks, plot_xlim=(0,3))"
   ]
  },
  {
   "cell_type": "code",
   "execution_count": null,
   "id": "7195e8a3-a7cb-4358-a195-d97993466149",
   "metadata": {
    "scrolled": true,
    "tags": []
   },
   "outputs": [],
   "source": [
    "inj_seps = [0.1, 0.2, 0.3, 0.4, 0.5, 0.6, 0.7, 0.8, 0.9, 1.0, 1.2, 1.4, 1.6, 1.8, 2.0, 2.5, 3.0]\n",
    "if calib_contrasts:\n",
    "    if companion_masks is not None:\n",
    "        Analysis.calibrate_contrast(\n",
    "                                    companions=companion_masks,\n",
    "                                    injection_seps=inj_seps,\n",
    "                                    plot_xlim=(0,3)\n",
    "                                   )\n",
    "    else:\n",
    "        Analysis.calibrate_contrast(injection_seps=inj_seps,\n",
    "                                    plot_xlim=(0,3)\n",
    "                                   )"
   ]
  },
  {
   "cell_type": "code",
   "execution_count": null,
   "id": "4096572d-5af9-401e-bc28-cdb1db40242e",
   "metadata": {
    "scrolled": true,
    "tags": []
   },
   "outputs": [],
   "source": [
    "if comp_fm:\n",
    "    if companions is not None:\n",
    "        Analysis.extract_companions(companions, \n",
    "                                    starfile,\n",
    "                                    0.0,\n",
    "                                    spectral_type=spt,\n",
    "                                    planetfile='./14HER_PLANET_LACY23_SCALED_MU_JY.txt',\n",
    "                                    fitmethod='mcmc',\n",
    "                                    fitkernel='matern32',\n",
    "                                    nthreads=16,\n",
    "                                    subtract=True,\n",
    "                                    save_preklip=False,\n",
    "                                   )"
   ]
  },
  {
   "cell_type": "code",
   "execution_count": null,
   "id": "b8e70b75-860b-4a58-8d49-909cdf5ed3ad",
   "metadata": {},
   "outputs": [],
   "source": []
  }
 ],
 "metadata": {
  "kernelspec": {
   "display_name": "spaceklip_v2p1",
   "language": "python",
   "name": "spaceklip_v2p1"
  },
  "language_info": {
   "codemirror_mode": {
    "name": "ipython",
    "version": 3
   },
   "file_extension": ".py",
   "mimetype": "text/x-python",
   "name": "python",
   "nbconvert_exporter": "python",
   "pygments_lexer": "ipython3",
   "version": "3.11.11"
  }
 },
 "nbformat": 4,
 "nbformat_minor": 5
}
